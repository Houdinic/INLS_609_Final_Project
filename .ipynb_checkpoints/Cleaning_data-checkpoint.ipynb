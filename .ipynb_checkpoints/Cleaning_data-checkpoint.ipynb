{
 "cells": [
  {
   "cell_type": "code",
   "execution_count": 1,
   "metadata": {},
   "outputs": [],
   "source": [
    "import pandas as pd\n",
    "import re\n",
    "import html2text"
   ]
  },
  {
   "cell_type": "code",
   "execution_count": 56,
   "metadata": {},
   "outputs": [],
   "source": [
    "left=pd.read_csv('left_articles.csv')\n",
    "right=pd.read_csv('right_articles.csv')"
   ]
  },
  {
   "cell_type": "code",
   "execution_count": 57,
   "metadata": {},
   "outputs": [
    {
     "name": "stderr",
     "output_type": "stream",
     "text": [
      "C:\\Users\\36375\\AppData\\Roaming\\Python\\Python37\\site-packages\\ipykernel_launcher.py:12: SettingWithCopyWarning: \n",
      "A value is trying to be set on a copy of a slice from a DataFrame\n",
      "\n",
      "See the caveats in the documentation: http://pandas.pydata.org/pandas-docs/stable/user_guide/indexing.html#returning-a-view-versus-a-copy\n",
      "  if sys.path[0] == '':\n",
      "C:\\Users\\36375\\AppData\\Roaming\\Python\\Python37\\site-packages\\ipykernel_launcher.py:16: SettingWithCopyWarning: \n",
      "A value is trying to be set on a copy of a slice from a DataFrame\n",
      "\n",
      "See the caveats in the documentation: http://pandas.pydata.org/pandas-docs/stable/user_guide/indexing.html#returning-a-view-versus-a-copy\n",
      "  app.launch_new_instance()\n"
     ]
    }
   ],
   "source": [
    "for i in range(right.shape[0]):\n",
    "    if len(right.article[i])>300:\n",
    "        txt=html2text.html2text(right.article[i])\n",
    "        r1 = re.findall(r\"http\\S+\",txt)\n",
    "        if r1:\n",
    "            for item in r1:\n",
    "                txt=txt.replace(item,'')\n",
    "        txt=re.sub('[^a-zA-Z0-9]',\" \",txt)\n",
    "        txt=txt.lower()\n",
    "        txt=txt.strip()\n",
    "        txt=re.sub(' +', ' ',txt)\n",
    "        right.article[i]=txt[116:] #articles from NR all have common prefix which has a minimum length of 116\n",
    "        txt=re.sub(' +', ' ',txt)\n",
    "        #len('2020 national review newsletters 2020 national review get our conservative analysis delivered right to you no charge')\n",
    "    else:\n",
    "        right.article[i]=float('nan')"
   ]
  },
  {
   "cell_type": "code",
   "execution_count": 58,
   "metadata": {},
   "outputs": [],
   "source": [
    "right=right.dropna()"
   ]
  },
  {
   "cell_type": "code",
   "execution_count": 59,
   "metadata": {},
   "outputs": [
    {
     "name": "stderr",
     "output_type": "stream",
     "text": [
      "C:\\Users\\36375\\AppData\\Roaming\\Python\\Python37\\site-packages\\ipykernel_launcher.py:12: SettingWithCopyWarning: \n",
      "A value is trying to be set on a copy of a slice from a DataFrame\n",
      "\n",
      "See the caveats in the documentation: http://pandas.pydata.org/pandas-docs/stable/user_guide/indexing.html#returning-a-view-versus-a-copy\n",
      "  if sys.path[0] == '':\n"
     ]
    }
   ],
   "source": [
    "for i in range(left.shape[0]):\n",
    "    if len(left.article[i])>300:\n",
    "        txt=html2text.html2text(left.article[i])\n",
    "        r1 = re.findall(r\"http\\S+\",txt)\n",
    "        if r1:\n",
    "            for item in r1:\n",
    "                txt=txt.replace(item,'')\n",
    "        txt=re.sub('[^a-zA-Z0-9]',\" \",txt)\n",
    "        txt=txt.lower()\n",
    "        txt=txt.strip()\n",
    "        txt=re.sub(' +', ' ',txt)\n",
    "        left.article[i]=txt\n",
    "    else:\n",
    "        left.article[i]=float('nan')"
   ]
  },
  {
   "cell_type": "code",
   "execution_count": 60,
   "metadata": {},
   "outputs": [],
   "source": [
    "left=left.dropna()"
   ]
  },
  {
   "cell_type": "code",
   "execution_count": 61,
   "metadata": {},
   "outputs": [],
   "source": [
    "ds = pd.concat([left,right])"
   ]
  },
  {
   "cell_type": "code",
   "execution_count": 62,
   "metadata": {},
   "outputs": [
    {
     "data": {
      "text/html": [
       "<div>\n",
       "<style scoped>\n",
       "    .dataframe tbody tr th:only-of-type {\n",
       "        vertical-align: middle;\n",
       "    }\n",
       "\n",
       "    .dataframe tbody tr th {\n",
       "        vertical-align: top;\n",
       "    }\n",
       "\n",
       "    .dataframe thead th {\n",
       "        text-align: right;\n",
       "    }\n",
       "</style>\n",
       "<table border=\"1\" class=\"dataframe\">\n",
       "  <thead>\n",
       "    <tr style=\"text-align: right;\">\n",
       "      <th></th>\n",
       "      <th>article</th>\n",
       "      <th>label</th>\n",
       "      <th>title</th>\n",
       "    </tr>\n",
       "  </thead>\n",
       "  <tbody>\n",
       "    <tr>\n",
       "      <th>0</th>\n",
       "      <td>in fact what people are more concerned about i...</td>\n",
       "      <td>1</td>\n",
       "      <td>China Identifies New Virus Causing Pneumoniali...</td>\n",
       "    </tr>\n",
       "    <tr>\n",
       "      <th>1</th>\n",
       "      <td>coronaviruses are a large family of viruses th...</td>\n",
       "      <td>1</td>\n",
       "      <td>China Reports First Death From New Virus</td>\n",
       "    </tr>\n",
       "    <tr>\n",
       "      <th>2</th>\n",
       "      <td>if there are no new cases in the next few days...</td>\n",
       "      <td>1</td>\n",
       "      <td>Japan and Thailand Confirm New Cases of Chines...</td>\n",
       "    </tr>\n",
       "    <tr>\n",
       "      <th>3</th>\n",
       "      <td>it doesn t take much for a virus in general to...</td>\n",
       "      <td>1</td>\n",
       "      <td>Three U.S. Airports to Check Passengers for a ...</td>\n",
       "    </tr>\n",
       "    <tr>\n",
       "      <th>4</th>\n",
       "      <td>we need to prepare for the possibility that th...</td>\n",
       "      <td>1</td>\n",
       "      <td>Deadly Mystery Virus Reported in 2 New Chinese...</td>\n",
       "    </tr>\n",
       "    <tr>\n",
       "      <th>...</th>\n",
       "      <td>...</td>\n",
       "      <td>...</td>\n",
       "      <td>...</td>\n",
       "    </tr>\n",
       "    <tr>\n",
       "      <th>897</th>\n",
       "      <td>referring to the black vote as people call it...</td>\n",
       "      <td>0</td>\n",
       "      <td>Votes and conscience, &amp;c.</td>\n",
       "    </tr>\n",
       "    <tr>\n",
       "      <th>898</th>\n",
       "      <td>at the end of the day employers will feel muc...</td>\n",
       "      <td>0</td>\n",
       "      <td>Students: College Shouldn’t Be Your Default Now</td>\n",
       "    </tr>\n",
       "    <tr>\n",
       "      <th>899</th>\n",
       "      <td>an alternative to prisoner release and a sens...</td>\n",
       "      <td>0</td>\n",
       "      <td>COVID and Prisons</td>\n",
       "    </tr>\n",
       "    <tr>\n",
       "      <th>900</th>\n",
       "      <td>one can disagree with the reopening plan notr...</td>\n",
       "      <td>0</td>\n",
       "      <td>Science, Coronavirus, and Notre Dame</td>\n",
       "    </tr>\n",
       "    <tr>\n",
       "      <th>901</th>\n",
       "      <td>now watch more of this please the sooner the ...</td>\n",
       "      <td>0</td>\n",
       "      <td>Oklahoma Bans ‘Quality of Life’ Health-Care Ra...</td>\n",
       "    </tr>\n",
       "  </tbody>\n",
       "</table>\n",
       "<p>1774 rows × 3 columns</p>\n",
       "</div>"
      ],
      "text/plain": [
       "                                               article  label  \\\n",
       "0    in fact what people are more concerned about i...      1   \n",
       "1    coronaviruses are a large family of viruses th...      1   \n",
       "2    if there are no new cases in the next few days...      1   \n",
       "3    it doesn t take much for a virus in general to...      1   \n",
       "4    we need to prepare for the possibility that th...      1   \n",
       "..                                                 ...    ...   \n",
       "897   referring to the black vote as people call it...      0   \n",
       "898   at the end of the day employers will feel muc...      0   \n",
       "899   an alternative to prisoner release and a sens...      0   \n",
       "900   one can disagree with the reopening plan notr...      0   \n",
       "901   now watch more of this please the sooner the ...      0   \n",
       "\n",
       "                                                 title  \n",
       "0    China Identifies New Virus Causing Pneumoniali...  \n",
       "1             China Reports First Death From New Virus  \n",
       "2    Japan and Thailand Confirm New Cases of Chines...  \n",
       "3    Three U.S. Airports to Check Passengers for a ...  \n",
       "4    Deadly Mystery Virus Reported in 2 New Chinese...  \n",
       "..                                                 ...  \n",
       "897                          Votes and conscience, &c.  \n",
       "898    Students: College Shouldn’t Be Your Default Now  \n",
       "899                                  COVID and Prisons  \n",
       "900               Science, Coronavirus, and Notre Dame  \n",
       "901  Oklahoma Bans ‘Quality of Life’ Health-Care Ra...  \n",
       "\n",
       "[1774 rows x 3 columns]"
      ]
     },
     "execution_count": 62,
     "metadata": {},
     "output_type": "execute_result"
    }
   ],
   "source": [
    "ds"
   ]
  },
  {
   "cell_type": "code",
   "execution_count": 63,
   "metadata": {},
   "outputs": [],
   "source": [
    "ds.to_csv('clean_data.csv',index=False)"
   ]
  },
  {
   "cell_type": "code",
   "execution_count": null,
   "metadata": {},
   "outputs": [],
   "source": []
  }
 ],
 "metadata": {
  "kernelspec": {
   "display_name": "Python 3",
   "language": "python",
   "name": "python3"
  },
  "language_info": {
   "codemirror_mode": {
    "name": "ipython",
    "version": 3
   },
   "file_extension": ".py",
   "mimetype": "text/x-python",
   "name": "python",
   "nbconvert_exporter": "python",
   "pygments_lexer": "ipython3",
   "version": "3.7.4"
  }
 },
 "nbformat": 4,
 "nbformat_minor": 2
}
