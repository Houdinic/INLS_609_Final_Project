{
 "cells": [
  {
   "cell_type": "code",
   "execution_count": 1,
   "metadata": {},
   "outputs": [],
   "source": [
    "import pandas as pd\n",
    "import sklearn\n",
    "from collections import Counter\n",
    "from sklearn.metrics import accuracy_score\n",
    "from sklearn.feature_extraction.text import CountVectorizer\n",
    "from sklearn.linear_model import LogisticRegression"
   ]
  },
  {
   "cell_type": "code",
   "execution_count": 27,
   "metadata": {},
   "outputs": [],
   "source": [
    "dataframe=pd.read_csv('clean_data.csv')"
   ]
  },
  {
   "cell_type": "code",
   "execution_count": 42,
   "metadata": {},
   "outputs": [
    {
     "data": {
      "text/html": [
       "<div>\n",
       "<style scoped>\n",
       "    .dataframe tbody tr th:only-of-type {\n",
       "        vertical-align: middle;\n",
       "    }\n",
       "\n",
       "    .dataframe tbody tr th {\n",
       "        vertical-align: top;\n",
       "    }\n",
       "\n",
       "    .dataframe thead th {\n",
       "        text-align: right;\n",
       "    }\n",
       "</style>\n",
       "<table border=\"1\" class=\"dataframe\">\n",
       "  <thead>\n",
       "    <tr style=\"text-align: right;\">\n",
       "      <th></th>\n",
       "      <th>article</th>\n",
       "      <th>label</th>\n",
       "      <th>title</th>\n",
       "    </tr>\n",
       "  </thead>\n",
       "  <tbody>\n",
       "    <tr>\n",
       "      <th>0</th>\n",
       "      <td>in fact what people are more concerned about i...</td>\n",
       "      <td>1</td>\n",
       "      <td>China Identifies New Virus Causing Pneumoniali...</td>\n",
       "    </tr>\n",
       "    <tr>\n",
       "      <th>1</th>\n",
       "      <td>coronaviruses are a large family of viruses th...</td>\n",
       "      <td>1</td>\n",
       "      <td>China Reports First Death From New Virus</td>\n",
       "    </tr>\n",
       "    <tr>\n",
       "      <th>2</th>\n",
       "      <td>if there are no new cases in the next few days...</td>\n",
       "      <td>1</td>\n",
       "      <td>Japan and Thailand Confirm New Cases of Chines...</td>\n",
       "    </tr>\n",
       "    <tr>\n",
       "      <th>3</th>\n",
       "      <td>it doesn t take much for a virus in general to...</td>\n",
       "      <td>1</td>\n",
       "      <td>Three U.S. Airports to Check Passengers for a ...</td>\n",
       "    </tr>\n",
       "    <tr>\n",
       "      <th>4</th>\n",
       "      <td>we need to prepare for the possibility that th...</td>\n",
       "      <td>1</td>\n",
       "      <td>Deadly Mystery Virus Reported in 2 New Chinese...</td>\n",
       "    </tr>\n",
       "    <tr>\n",
       "      <th>...</th>\n",
       "      <td>...</td>\n",
       "      <td>...</td>\n",
       "      <td>...</td>\n",
       "    </tr>\n",
       "    <tr>\n",
       "      <th>1769</th>\n",
       "      <td>referring to the black vote as people call it...</td>\n",
       "      <td>0</td>\n",
       "      <td>Votes and conscience, &amp;c.</td>\n",
       "    </tr>\n",
       "    <tr>\n",
       "      <th>1770</th>\n",
       "      <td>at the end of the day employers will feel muc...</td>\n",
       "      <td>0</td>\n",
       "      <td>Students: College Shouldn’t Be Your Default Now</td>\n",
       "    </tr>\n",
       "    <tr>\n",
       "      <th>1771</th>\n",
       "      <td>an alternative to prisoner release and a sens...</td>\n",
       "      <td>0</td>\n",
       "      <td>COVID and Prisons</td>\n",
       "    </tr>\n",
       "    <tr>\n",
       "      <th>1772</th>\n",
       "      <td>one can disagree with the reopening plan notr...</td>\n",
       "      <td>0</td>\n",
       "      <td>Science, Coronavirus, and Notre Dame</td>\n",
       "    </tr>\n",
       "    <tr>\n",
       "      <th>1773</th>\n",
       "      <td>now watch more of this please the sooner the ...</td>\n",
       "      <td>0</td>\n",
       "      <td>Oklahoma Bans ‘Quality of Life’ Health-Care Ra...</td>\n",
       "    </tr>\n",
       "  </tbody>\n",
       "</table>\n",
       "<p>1774 rows × 3 columns</p>\n",
       "</div>"
      ],
      "text/plain": [
       "                                                article  label  \\\n",
       "0     in fact what people are more concerned about i...      1   \n",
       "1     coronaviruses are a large family of viruses th...      1   \n",
       "2     if there are no new cases in the next few days...      1   \n",
       "3     it doesn t take much for a virus in general to...      1   \n",
       "4     we need to prepare for the possibility that th...      1   \n",
       "...                                                 ...    ...   \n",
       "1769   referring to the black vote as people call it...      0   \n",
       "1770   at the end of the day employers will feel muc...      0   \n",
       "1771   an alternative to prisoner release and a sens...      0   \n",
       "1772   one can disagree with the reopening plan notr...      0   \n",
       "1773   now watch more of this please the sooner the ...      0   \n",
       "\n",
       "                                                  title  \n",
       "0     China Identifies New Virus Causing Pneumoniali...  \n",
       "1              China Reports First Death From New Virus  \n",
       "2     Japan and Thailand Confirm New Cases of Chines...  \n",
       "3     Three U.S. Airports to Check Passengers for a ...  \n",
       "4     Deadly Mystery Virus Reported in 2 New Chinese...  \n",
       "...                                                 ...  \n",
       "1769                          Votes and conscience, &c.  \n",
       "1770    Students: College Shouldn’t Be Your Default Now  \n",
       "1771                                  COVID and Prisons  \n",
       "1772               Science, Coronavirus, and Notre Dame  \n",
       "1773  Oklahoma Bans ‘Quality of Life’ Health-Care Ra...  \n",
       "\n",
       "[1774 rows x 3 columns]"
      ]
     },
     "execution_count": 42,
     "metadata": {},
     "output_type": "execute_result"
    }
   ],
   "source": [
    "dataframe"
   ]
  },
  {
   "cell_type": "code",
   "execution_count": 43,
   "metadata": {},
   "outputs": [
    {
     "name": "stdout",
     "output_type": "stream",
     "text": [
      "training set size: 1419\n",
      "validation set size: 355\n"
     ]
    }
   ],
   "source": [
    "train_ratio = 0.8\n",
    "random_seed = 100\n",
    "\n",
    "train_dataframe = dataframe.sample(frac=train_ratio, random_state=random_seed)\n",
    "valid_dataframe = dataframe.drop(train_dataframe.index)\n",
    "print('training set size:', len(train_dataframe))\n",
    "print('validation set size:', len(valid_dataframe))"
   ]
  },
  {
   "cell_type": "code",
   "execution_count": 214,
   "metadata": {},
   "outputs": [],
   "source": [
    "swords=['news','april','january','march','000','watch','time','business','inbox news','team','inbox','news team','send','tip','reviewfollow','national reviewfollow','nrplus member','nrplus','member article','article national','nr','send tip','aight','us','national us','member','article','member article','article national']"
   ]
  },
  {
   "cell_type": "code",
   "execution_count": 215,
   "metadata": {},
   "outputs": [],
   "source": [
    "import nltk \n",
    "from nltk.corpus import stopwords\n",
    "swords.extend(list(set(stopwords.words('english'))))"
   ]
  },
  {
   "cell_type": "code",
   "execution_count": 216,
   "metadata": {},
   "outputs": [
    {
     "data": {
      "text/plain": [
       "CountVectorizer(analyzer='word', binary=False, decode_error='strict',\n",
       "                dtype=<class 'numpy.int64'>, encoding='utf-8', input='content',\n",
       "                lowercase=True, max_df=0.65, max_features=None, min_df=0.001,\n",
       "                ngram_range=(1, 2), preprocessor=None,\n",
       "                stop_words=['news', 'april', 'january', 'march', '000', 'watch',\n",
       "                            'time', 'business', 'inbox news', 'team', 'inbox',\n",
       "                            'news team', 'send', 'tip', 'reviewfollow',\n",
       "                            'national reviewfollow', 'nrplus member', 'nrplus',\n",
       "                            'member article', 'article national', 'nr',\n",
       "                            'send tip', 'aight', 'us', 'national us', 'member',\n",
       "                            'article', 'member article', 'article national',\n",
       "                            'wasn', ...],\n",
       "                strip_accents=None, token_pattern='(?u)\\\\b\\\\w\\\\w+\\\\b',\n",
       "                tokenizer=None, vocabulary=None)"
      ]
     },
     "execution_count": 216,
     "metadata": {},
     "output_type": "execute_result"
    }
   ],
   "source": [
    "vectorizer = CountVectorizer(ngram_range=(1, 2),stop_words=swords,max_df=0.65, min_df=0.001)\n",
    "vectorizer.fit(dataframe['article'])"
   ]
  },
  {
   "cell_type": "code",
   "execution_count": 218,
   "metadata": {},
   "outputs": [],
   "source": [
    "train_X = vectorizer.transform(train_dataframe['article'])\n",
    "valid_X = vectorizer.transform(valid_dataframe['article'])"
   ]
  },
  {
   "cell_type": "code",
   "execution_count": 219,
   "metadata": {},
   "outputs": [
    {
     "data": {
      "text/plain": [
       "LogisticRegression(C=1.0, class_weight=None, dual=False, fit_intercept=True,\n",
       "                   intercept_scaling=1, l1_ratio=None, max_iter=100,\n",
       "                   multi_class='auto', n_jobs=None, penalty='l2',\n",
       "                   random_state=None, solver='liblinear', tol=0.0001, verbose=0,\n",
       "                   warm_start=False)"
      ]
     },
     "execution_count": 219,
     "metadata": {},
     "output_type": "execute_result"
    }
   ],
   "source": [
    "train_Y = train_dataframe['label']\n",
    "model = LogisticRegression(solver='liblinear')\n",
    "model.fit(train_X, train_Y)"
   ]
  },
  {
   "cell_type": "code",
   "execution_count": 220,
   "metadata": {},
   "outputs": [
    {
     "name": "stdout",
     "output_type": "stream",
     "text": [
      "Classification accuracy: 1.0\n"
     ]
    }
   ],
   "source": [
    "valid_Y_hat = model.predict(valid_X)\n",
    "accuracy = accuracy_score(valid_dataframe['label'], valid_Y_hat)\n",
    "print ('Classification accuracy:', accuracy)"
   ]
  },
  {
   "cell_type": "code",
   "execution_count": 204,
   "metadata": {},
   "outputs": [],
   "source": [
    "def get_word(coef):\n",
    "    for i in vectorizer.vocabulary_:\n",
    "        if vectorizer.vocabulary_[i]== np.where(model.coef_[0] == coef)[0][0]:\n",
    "            return i"
   ]
  },
  {
   "cell_type": "code",
   "execution_count": 222,
   "metadata": {},
   "outputs": [],
   "source": [
    "right_words=[]\n",
    "left_words=[]"
   ]
  },
  {
   "cell_type": "code",
   "execution_count": 223,
   "metadata": {},
   "outputs": [],
   "source": [
    "for k in sorted(model.coef_[0])[:150]:\n",
    "    right_words.append(get_word(k))\n",
    "for k in sorted(model.coef_[0],reverse=True)[:150]:\n",
    "    left_words.append(get_word(k))"
   ]
  },
  {
   "cell_type": "code",
   "execution_count": 225,
   "metadata": {},
   "outputs": [],
   "source": [
    "df=pd.DataFrame({'left_top_words':left_words,'right_top_words':right_words})"
   ]
  },
  {
   "cell_type": "code",
   "execution_count": 227,
   "metadata": {},
   "outputs": [],
   "source": [
    "df.to_csv('topwords.csv',index=False)"
   ]
  },
  {
   "cell_type": "code",
   "execution_count": null,
   "metadata": {},
   "outputs": [],
   "source": []
  }
 ],
 "metadata": {
  "kernelspec": {
   "display_name": "Python 3",
   "language": "python",
   "name": "python3"
  },
  "language_info": {
   "codemirror_mode": {
    "name": "ipython",
    "version": 3
   },
   "file_extension": ".py",
   "mimetype": "text/x-python",
   "name": "python",
   "nbconvert_exporter": "python",
   "pygments_lexer": "ipython3",
   "version": "3.7.4"
  }
 },
 "nbformat": 4,
 "nbformat_minor": 2
}
