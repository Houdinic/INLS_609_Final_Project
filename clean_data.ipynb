{
 "cells": [
  {
   "cell_type": "code",
   "execution_count": 1,
   "metadata": {},
   "outputs": [],
   "source": [
    "import pandas as pd\n",
    "import re"
   ]
  },
  {
   "cell_type": "code",
   "execution_count": 2,
   "metadata": {},
   "outputs": [],
   "source": [
    "left=pd.read_csv('left_articles.csv')\n",
    "right=pd.read_csv('right_articles.csv')"
   ]
  },
  {
   "cell_type": "code",
   "execution_count": 10,
   "metadata": {},
   "outputs": [
    {
     "output_type": "stream",
     "name": "stdout",
     "text": [
      "['<strong class=\"css-8qgvsz ebyp5n10\">', '<em class=\"css-2fg4z9 e1gzwzxm0\">', '</em>', '</strong>', '<em class=\"css-2fg4z9 e1gzwzxm0\">', '</em>']\n"
     ]
    }
   ],
   "source": [
    "res=re.findall('(</?[^>]*>)',left['article'][0])\n",
    "print(res)"
   ]
  },
  {
   "cell_type": "code",
   "execution_count": 11,
   "metadata": {},
   "outputs": [
    {
     "output_type": "stream",
     "name": "stdout",
     "text": [
      "['<span>', '</span>', '<a href=\"https://www.nationalreview.com/tips/\">', '<em>', '</em>', '</a>']\n"
     ]
    }
   ],
   "source": [
    "res=re.findall('(</?[^>]*>)',right['article'][3])\n",
    "print(res)"
   ]
  },
  {
   "cell_type": "code",
   "execution_count": null,
   "metadata": {},
   "outputs": [],
   "source": []
  }
 ],
 "metadata": {
  "kernelspec": {
   "name": "Python 3.7.4 32-bit",
   "display_name": "Python 3.7.4 32-bit",
   "metadata": {
    "interpreter": {
     "hash": "7299f63c129043644d6b35adabe7f6727646af50ab3fb9579c787446a2ec852e"
    }
   }
  },
  "language_info": {
   "codemirror_mode": {
    "name": "ipython",
    "version": 3
   },
   "file_extension": ".py",
   "mimetype": "text/x-python",
   "name": "python",
   "nbconvert_exporter": "python",
   "pygments_lexer": "ipython3",
   "version": "3.7.4-final"
  }
 },
 "nbformat": 4,
 "nbformat_minor": 2
}