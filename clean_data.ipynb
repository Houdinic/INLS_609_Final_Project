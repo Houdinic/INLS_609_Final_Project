{
 "cells": [
  {
   "cell_type": "code",
   "execution_count": 1,
   "metadata": {},
   "outputs": [],
   "source": [
    "import pandas as pd\n",
    "import re"
   ]
  },
  {
   "cell_type": "code",
   "execution_count": 2,
   "metadata": {},
   "outputs": [],
   "source": [
    "left=pd.read_csv('left_articles.csv')\n",
    "right=pd.read_csv('right_articles.csv')"
   ]
  },
  {
   "cell_type": "code",
   "execution_count": 3,
   "metadata": {},
   "outputs": [
    {
     "data": {
      "text/plain": [
       "'<strong class=\"css-8qgvsz ebyp5n10\"><em class=\"css-2fg4z9 e1gzwzxm0\">[</em></strong>“In fact, what people are more concerned about is the transmission route and whether it can be cured,” wrote a user on Weibo, a popular social media tool in China.Despite Thursday’s announcement, many Chinese were still expressing fear that there could be a repeat of SARS.Most outbreaks of MERS, which appeared in 2012, have been traced to people who raise or sell camels, which in the Middle East are kept for meat, milk, racing, hauling cargo and as pets. Like SARS, MERS can jump from person to person, particularly in hospitals. Some MERS patients infected many others after they were put on machines to help them breathe — the mechanisms helped spew viral particles into the air as they exhaled.SARS is believed to have jumped to humans from live-animal markets. It was eventually traced to civet cats, raccoon dogs and some other species that were raised and slaughtered for the exotic food trade. The virus normally circulates in bats, and the animals may have gotten it from them, possibly by eating food contaminated by bat droppings.Officials in Hong Kong have installed additional thermal imaging systems at its airport to monitor passengers coming from Wuhan, scanning for people with fevers.In Singapore, the authorities placed a Chinese girl with pneumonia in isolation because she had traveled to Wuhan. On Sunday, they said doctors had determined that the child In South Korea, the authorities said on Wednesday that they had Health officials in Asia have stepped up screenings and isolated patients with flulike symptoms who had traveled to Wuhan.Last weekend, laboratory tests in China ruled out SARS; the deadly Middle East Respiratory Syndrome, or MERS; the flu; bird flu; adenoviruses; and other common pathogens that cause pneumonia.Early reports on ProMED, a disease-alert service, said there was no evidence of human-to-human transmission.Until Thursday’s announcement, it was not clear what was causing the illnesses in Wuhan. The World Health Organization said Wednesday that it had concluded that it was most likely a coronavirus. “More comprehensive information is required to confirm the pathogen,” the W.H.O. said in a statement. The new illness appeared just weeks before the Spring Festival, China’s biggest holiday, when hundreds of millions of people travel. The authorities have urged the public to be on alert for pneumonialike symptoms like fevers, body aches and breathing difficulties.So far, the cases in China have circulated only in Wuhan. The initial cases were linked to workers at a market that sold live fish, animals and birds. Workers disinfected and shut down the market after the city health department said many of the cases had been traced to it. Dr. Guan said he was not surprised that the virus identified was a coronavirus, because coronaviruses can pass from animals to humans easily. But he said it would probably be a while before researchers came up with treatments for the illness. “We can assume that this virus transmissibility is not that high,” said Guan Yi, a professor of infectious diseases at the University of Hong Kong, who was part of a team that successfully identified the coronavirus that caused SARS.Researchers have been encouraged by the fact that patients’ relatives and hospital workers have not been reported to have gotten sick, signaling that the virus may not spread easily among humans. The Wuhan government “It’s premature to say that there’s no human-to-human transmission,” Dr. Hui said.The authorities in Wuhan are still closely monitoring 163 people who were in close contact with the patients, Dr. Hui said. He added that 15 days, the minimum incubation period for some viral infections, had not yet passed since the last reported instance of the disease, on Dec. 29.“So, there are still a lot of question marks,” said David Hui, an expert in emerging infections at the Chinese University of Hong Kong.Many questions about the new virus remain. While it appears to be transmitted to humans via animals, the Chinese government has not said which animals, nor has it disclosed other details about the outbreak, like the transmission route, the incubation period or the ages and genders of the patients. “Preliminary identification of a novel virus in a short period of time is a notable achievement and demonstrates China’s increased capacity to manage new outbreaks,” Dr. Gauden Galea, the W.H.O.’s representative to China, said in a statement.China initially covered up the extent of the SARS outbreak and was criticized by health officials around the world for doing so. On Thursday, the World Health Organization praised the Chinese response to the new outbreak and said it did not recommend any restrictions on trade or travel to China because of the virus. <em class=\"css-2fg4z9 e1gzwzxm0\">[Read: </em>The announcement signals that researchers are making progress in containing the outbreak, but Asian officials are not likely to relax their vigilance until they learn more. The disease has evoked memories of Coronaviruses are a large family of viruses that infect animals and people. Some cause only the symptoms known as the common cold, although many other viruses also do that.The new coronavirus “is different from previous human coronaviruses that were previously discovered, and more scientific research is needed for further understanding,” the report said.Researchers in China have “initially identified” the new virus, a coronavirus, as the pathogen behind a There is no evidence that the new virus is readily spread by humans, which would make it particularly dangerous, and it has not been tied to any deaths. But health officials in China and elsewhere are watching it carefully to ensure that the outbreak does not develop into something more severe. HONG KONG — Chinese researchers say they have identified a new virus behind an illness that has infected dozens of people across Asia, setting off fears in a region that was struck by a deadly epidemic 17 years ago.'"
      ]
     },
     "execution_count": 3,
     "metadata": {},
     "output_type": "execute_result"
    }
   ],
   "source": [
    "left['article'][0]"
   ]
  },
  {
   "cell_type": "code",
   "execution_count": 5,
   "metadata": {},
   "outputs": [
    {
     "data": {
      "text/plain": [
       "'\\n\\t\\t\\t\\t\\t\\t© 2020 National Review\\t\\t\\t\\t\\t\\n\\t\\t\\t\\t\\t\\tNewsletters\\t\\t\\t\\t\\t\\n\\t\\t\\t\\t\\t© 2020 National Review\\t\\t\\t\\tGet breaking news, with NR\\'s unfiltered reporting, delivered straight to your inbox<span>NOW WATCH: </span><a href=\"https://www.nationalreview.com/tips/\"><em>Send a tip to the news team at </em>NR.</a>The U.S. stock market plummeted this week along with markets worldwide on Monday morning as fears of the spreading coronavirus rattled investors.Symptoms of the virus, which has taken its largest toll on the elderly, have ranged from mild to severe.“At this time, the patient’s exposure is unknown,” read a statement from the CDC. “It’s possible this could be an instance of community spread of COVID-19, which would be the first time this has happened in the United States.”The coronavirus, a respiratory illness which originated in China, has killed nearly 3,000 people globally and infected nearly 81,000. The U.S. has identified 60 cases within the country, all but one of whom caught the infection from traveling abroad or having contact with someone who did. On Wednesday, the Centers for Disease Control and Prevention\\xa0Earlier in the day, Senate minority leader Chuck Schumer on Wednesday requested $8.5 billion in emergency funding to combat the coronavirus, more than three times the $2.5 billion the White House has requested.President Trump announced Wednesday that Pence will be in charge of the administration’s coronavirus response.“She has deep experience in coordinating across agencies,” the White House said in a statement. “She has worked from the research bench to the clinic, but understands the primary focus must always be to reach the individuals most in need.”Birx, a career public health official, is currently in charge of the U.S. effort to battle AIDS across the globe and is responsible for the $6 billion the U.S. has earmarked for\\xa0HIV and AIDS treatment and prevention programs in 65 countries.\\xa0She was nominated to that position by former President Barack Obama in 2014 and also serves as U.S. Special Representative for Global Health Diplomacy.Ambassador Debbie Birx will serve as “White House Coronavirus Response Coordinator” and report to Pence as well as join the task force formed to combat the epidemic under Health and Human Services Secretary Alex Azar.Vice President Mike Pence has appointed the administration’s\\xa0top AIDS official as head coordinator in tackling the coronavirus in the U.S., the White House said Thursday.National ReviewFollow Us'"
      ]
     },
     "execution_count": 5,
     "metadata": {},
     "output_type": "execute_result"
    }
   ],
   "source": [
    "right['article'][3]"
   ]
  },
  {
   "cell_type": "code",
   "execution_count": null,
   "metadata": {},
   "outputs": [],
   "source": []
  }
 ],
 "metadata": {
  "kernelspec": {
   "display_name": "Python 3",
   "language": "python",
   "name": "python3"
  },
  "language_info": {
   "codemirror_mode": {
    "name": "ipython",
    "version": 3
   },
   "file_extension": ".py",
   "mimetype": "text/x-python",
   "name": "python",
   "nbconvert_exporter": "python",
   "pygments_lexer": "ipython3",
   "version": "3.7.4"
  }
 },
 "nbformat": 4,
 "nbformat_minor": 2
}
